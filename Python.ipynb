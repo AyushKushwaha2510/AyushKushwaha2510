{
  "nbformat": 4,
  "nbformat_minor": 0,
  "metadata": {
    "colab": {
      "provenance": [],
      "gpuType": "T4",
      "authorship_tag": "ABX9TyNatTsB1l7gj11GKM187poZ",
      "include_colab_link": true
    },
    "kernelspec": {
      "name": "python3",
      "display_name": "Python 3"
    },
    "language_info": {
      "name": "python"
    }
  },
  "cells": [
    {
      "cell_type": "markdown",
      "metadata": {
        "id": "view-in-github",
        "colab_type": "text"
      },
      "source": [
        "<a href=\"https://colab.research.google.com/github/AyushKushwaha2510/AyushKushwaha2510/blob/main/Python.ipynb\" target=\"_parent\"><img src=\"https://colab.research.google.com/assets/colab-badge.svg\" alt=\"Open In Colab\"/></a>"
      ]
    },
    {
      "cell_type": "markdown",
      "source": [
        "Write a progaram to swap numbers"
      ],
      "metadata": {
        "id": "zISuA9EH-B7x"
      }
    },
    {
      "cell_type": "code",
      "execution_count": null,
      "metadata": {
        "colab": {
          "base_uri": "https://localhost:8080/"
        },
        "id": "D5ZVyJ1o2qMy",
        "outputId": "76c3e541-1d55-4f6c-c437-08c1f9b03388"
      },
      "outputs": [
        {
          "output_type": "stream",
          "name": "stdout",
          "text": [
            "6 5\n"
          ]
        }
      ],
      "source": [
        "a, b = 5, 6\n",
        "b, a = a, b\n",
        "print(a, b)"
      ]
    },
    {
      "cell_type": "code",
      "source": [
        "_hulk = 1000\n",
        "_thor = 800\n",
        "print(\"Hulk power = \", _hulk)\n",
        "print(\"Thor power = \", _thor)\n",
        "_hulk, _thor = _thor, _hulk\n",
        "print(\"After Swap\")\n",
        "print(\"Hulk power = \", _hulk)\n",
        "print(\"Thor power = \", _thor)"
      ],
      "metadata": {
        "colab": {
          "base_uri": "https://localhost:8080/"
        },
        "id": "9Yab_iJi_nRd",
        "outputId": "4dfc7f99-01cd-40a8-b609-e668fdf3f4cc"
      },
      "execution_count": null,
      "outputs": [
        {
          "output_type": "stream",
          "name": "stdout",
          "text": [
            "Hulk power =  1000\n",
            "Thor power =  800\n",
            "After Swap\n",
            "Hulk power =  800\n",
            "Thor power =  1000\n"
          ]
        }
      ]
    },
    {
      "cell_type": "markdown",
      "source": [
        "TypeCasting :\n",
        "hulk strenght level is recorded as a string input 1000, convert it into an inteeger and increase it by 200"
      ],
      "metadata": {
        "id": "BdYp_gNwAiDB"
      }
    },
    {
      "cell_type": "code",
      "source": [],
      "metadata": {
        "id": "HEp4xFKcBoiY"
      },
      "execution_count": null,
      "outputs": []
    },
    {
      "cell_type": "markdown",
      "source": [
        "Thor hammer weight is 5000 , but you need to calculate the gravitational force which requies it as a float"
      ],
      "metadata": {
        "id": "mO1vpyfRA13K"
      }
    },
    {
      "cell_type": "code",
      "source": [],
      "metadata": {
        "id": "japiOTVFBpVb"
      },
      "execution_count": null,
      "outputs": []
    },
    {
      "cell_type": "markdown",
      "source": [
        "Locy gets input in seconds as strings = \"3600\". Convert it into an integer and then to hours. Show final result as a float"
      ],
      "metadata": {
        "id": "RcUCupVWBFhu"
      }
    },
    {
      "cell_type": "code",
      "source": [],
      "metadata": {
        "id": "6-zsQRFKBp-C"
      },
      "execution_count": null,
      "outputs": []
    },
    {
      "cell_type": "markdown",
      "source": [
        "IronMan recorded seven hits outoff ten shots, both integers. Convert them into float and calculatet the accuracy percentage.\n"
      ],
      "metadata": {
        "id": "rRP3JtNyBXSO"
      }
    },
    {
      "cell_type": "code",
      "source": [
        "hits, total_shots = 7, 10\n",
        "acc = float(hits/total_shots) * 100\n",
        "print(\"Acc % is :\", acc)\n",
        "print(f\"Acc % is : {acc:.2f}\")\n"
      ],
      "metadata": {
        "colab": {
          "base_uri": "https://localhost:8080/"
        },
        "id": "BEeYujhCBqb_",
        "outputId": "1a83d8c7-a9ea-489b-a0dd-1b44c8c578fd"
      },
      "execution_count": null,
      "outputs": [
        {
          "output_type": "stream",
          "name": "stdout",
          "text": [
            "Acc % is : 70.0\n",
            "Acc % is : 70.00\n"
          ]
        }
      ]
    }
  ]
}